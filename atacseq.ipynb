{
 "cells": [
  {
   "cell_type": "code",
   "execution_count": 5,
   "metadata": {
    "vscode": {
     "languageId": "r"
    }
   },
   "outputs": [
    {
     "name": "stderr",
     "output_type": "stream",
     "text": [
      "Setting default number of Parallel threads to 16.\n",
      "\n"
     ]
    },
    {
     "name": "stderr",
     "output_type": "stream",
     "text": [
      "Setting default genome to Hg19.\n",
      "\n",
      "Loading required package: BSgenome\n",
      "\n",
      "Loading required package: Biostrings\n",
      "\n",
      "Loading required package: XVector\n",
      "\n",
      "\n",
      "Attaching package: ‘XVector’\n",
      "\n",
      "\n",
      "The following object is masked from ‘package:plyr’:\n",
      "\n",
      "    compact\n",
      "\n",
      "\n",
      "\n",
      "Attaching package: ‘Biostrings’\n",
      "\n",
      "\n",
      "The following object is masked from ‘package:grid’:\n",
      "\n",
      "    pattern\n",
      "\n",
      "\n",
      "The following object is masked from ‘package:base’:\n",
      "\n",
      "    strsplit\n",
      "\n",
      "\n",
      "Loading required package: BiocIO\n",
      "\n",
      "Loading required package: rtracklayer\n",
      "\n",
      "\n",
      "Attaching package: ‘rtracklayer’\n",
      "\n",
      "\n",
      "The following object is masked from ‘package:BiocIO’:\n",
      "\n",
      "    FileForFormat\n",
      "\n",
      "\n"
     ]
    }
   ],
   "source": [
    "library(ArchR)\n",
    "addArchRThreads(threads = 16)\n",
    "addArchRGenome(\"hg19\")\n",
    "library(BSgenome.Dmelanogaster.UCSC.dm6)\n"
   ]
  },
  {
   "cell_type": "code",
   "execution_count": 10,
   "metadata": {
    "vscode": {
     "languageId": "r"
    }
   },
   "outputs": [
    {
     "name": "stderr",
     "output_type": "stream",
     "text": [
      "\n",
      "\n"
     ]
    }
   ],
   "source": [
    "if (!requireNamespace(\"TxDb.Dmelanogaster.UCSC.dm6.ensGene\", quietly = TRUE)){\n",
    "  BiocManager::install(\"TxDb.Dmelanogaster.UCSC.dm6.ensGene\")\n",
    "}\n",
    "if (!requireNamespace(\"org.Dm.eg.db\", quietly = TRUE)){\n",
    "  BiocManager::install(\"org.Dm.eg.db\")\n",
    "}\n",
    "library(TxDb.Dmelanogaster.UCSC.dm6.ensGene)\n",
    "library(org.Dm.eg.db)"
   ]
  },
  {
   "cell_type": "code",
   "execution_count": 6,
   "metadata": {
    "vscode": {
     "languageId": "r"
    }
   },
   "outputs": [
    {
     "name": "stderr",
     "output_type": "stream",
     "text": [
      "Getting genome..\n",
      "\n",
      "Attempting to infer chromSizes..\n",
      "\n",
      "Attempting to infer blacklist..\n",
      "\n",
      "Blacklist not downloaded! Continuing without, be careful for downstream biases..\n",
      "\n"
     ]
    }
   ],
   "source": [
    "genomeAnnotation <- createGenomeAnnotation(genome = BSgenome.Dmelanogaster.UCSC.dm6)"
   ]
  },
  {
   "cell_type": "code",
   "execution_count": 11,
   "metadata": {
    "vscode": {
     "languageId": "r"
    }
   },
   "outputs": [
    {
     "name": "stderr",
     "output_type": "stream",
     "text": [
      "Getting Genes..\n",
      "\n",
      "  1 gene was dropped because it has exons located on both strands of the\n",
      "  same reference sequence or on more than one reference sequence, so\n",
      "  cannot be represented by a single genomic range.\n",
      "  Use 'single.strand.genes.only=FALSE' to get all the genes in a\n",
      "  GRangesList object, or use suppressMessages() to suppress this message.\n",
      "\n",
      "Determined Annotation Style = ENSEMBL\n",
      "\n",
      "Getting Exons..\n",
      "\n",
      "Getting TSS..\n",
      "\n"
     ]
    }
   ],
   "source": [
    "geneAnnotation <- createGeneAnnotation(TxDb = TxDb.Dmelanogaster.UCSC.dm6.ensGene, OrgDb = org.Dm.eg.db)"
   ]
  },
  {
   "cell_type": "code",
   "execution_count": 12,
   "metadata": {
    "vscode": {
     "languageId": "r"
    }
   },
   "outputs": [],
   "source": [
    "geneAnnotation <- createGeneAnnotation(\n",
    "  TSS = geneAnnotation$TSS, \n",
    "  exons = geneAnnotation$exons, \n",
    "  genes = geneAnnotation$genes\n",
    ")"
   ]
  },
  {
   "cell_type": "code",
   "execution_count": 13,
   "metadata": {
    "vscode": {
     "languageId": "r"
    }
   },
   "outputs": [
    {
     "name": "stderr",
     "output_type": "stream",
     "text": [
      "Downloading files to HemeFragments...\n",
      "\n"
     ]
    },
    {
     "data": {
      "text/html": [
       "<style>\n",
       ".dl-inline {width: auto; margin:0; padding: 0}\n",
       ".dl-inline>dt, .dl-inline>dd {float: none; width: auto; display: inline-block}\n",
       ".dl-inline>dt::after {content: \":\\0020\"; padding-right: .5ex}\n",
       ".dl-inline>dt:not(:first-of-type) {padding-left: .5ex}\n",
       "</style><dl class=dl-inline><dt>scATAC_BMMC_R1</dt><dd>'HemeFragments/scATAC_BMMC_R1.fragments.tsv.gz'</dd><dt>scATAC_CD34_BMMC_R1</dt><dd>'HemeFragments/scATAC_CD34_BMMC_R1.fragments.tsv.gz'</dd><dt>scATAC_PBMC_R1</dt><dd>'HemeFragments/scATAC_PBMC_R1.fragments.tsv.gz'</dd></dl>\n"
      ],
      "text/latex": [
       "\\begin{description*}\n",
       "\\item[scATAC\\textbackslash{}\\_BMMC\\textbackslash{}\\_R1] 'HemeFragments/scATAC\\_BMMC\\_R1.fragments.tsv.gz'\n",
       "\\item[scATAC\\textbackslash{}\\_CD34\\textbackslash{}\\_BMMC\\textbackslash{}\\_R1] 'HemeFragments/scATAC\\_CD34\\_BMMC\\_R1.fragments.tsv.gz'\n",
       "\\item[scATAC\\textbackslash{}\\_PBMC\\textbackslash{}\\_R1] 'HemeFragments/scATAC\\_PBMC\\_R1.fragments.tsv.gz'\n",
       "\\end{description*}\n"
      ],
      "text/markdown": [
       "scATAC_BMMC_R1\n",
       ":   'HemeFragments/scATAC_BMMC_R1.fragments.tsv.gz'scATAC_CD34_BMMC_R1\n",
       ":   'HemeFragments/scATAC_CD34_BMMC_R1.fragments.tsv.gz'scATAC_PBMC_R1\n",
       ":   'HemeFragments/scATAC_PBMC_R1.fragments.tsv.gz'\n",
       "\n"
      ],
      "text/plain": [
       "                                      scATAC_BMMC_R1 \n",
       "     \"HemeFragments/scATAC_BMMC_R1.fragments.tsv.gz\" \n",
       "                                 scATAC_CD34_BMMC_R1 \n",
       "\"HemeFragments/scATAC_CD34_BMMC_R1.fragments.tsv.gz\" \n",
       "                                      scATAC_PBMC_R1 \n",
       "     \"HemeFragments/scATAC_PBMC_R1.fragments.tsv.gz\" "
      ]
     },
     "metadata": {},
     "output_type": "display_data"
    }
   ],
   "source": [
    "inputFiles <- getTutorialData(\"Hematopoiesis\")\n",
    "inputFiles"
   ]
  },
  {
   "cell_type": "code",
   "execution_count": 14,
   "metadata": {
    "vscode": {
     "languageId": "r"
    }
   },
   "outputs": [
    {
     "name": "stderr",
     "output_type": "stream",
     "text": [
      "filterFrags is no longer a valid input. Please use minFrags! Setting filterFrags value to minFrags!\n",
      "\n",
      "filterTSS is no longer a valid input. Please use minTSS! Setting filterTSS value to minTSS!\n",
      "\n",
      "Using GeneAnnotation set by addArchRGenome(Hg19)!\n",
      "\n",
      "Using GeneAnnotation set by addArchRGenome(Hg19)!\n",
      "\n",
      "ArchR logging to : ArchRLogs/ArchR-createArrows-10545e579b3e-Date-2024-08-29_Time-17-23-35.784932.log\n",
      "If there is an issue, please report to github with logFile!\n",
      "\n",
      "Cleaning Temporary Files\n",
      "\n",
      "2024-08-29 17:23:35.888598 : Batch Execution w/ safelapply!, 0 mins elapsed.\n",
      "\n",
      "ArchR logging successful to : ArchRLogs/ArchR-createArrows-10545e579b3e-Date-2024-08-29_Time-17-23-35.784932.log\n",
      "\n"
     ]
    }
   ],
   "source": [
    "ArrowFiles <- createArrowFiles(\n",
    "  inputFiles = inputFiles,\n",
    "  sampleNames = names(inputFiles),\n",
    "  filterTSS = 4, #Dont set this too high because you can always increase later\n",
    "  filterFrags = 1000, \n",
    "  addTileMat = TRUE,\n",
    "  addGeneScoreMat = TRUE\n",
    ")"
   ]
  },
  {
   "cell_type": "code",
   "execution_count": null,
   "metadata": {
    "vscode": {
     "languageId": "r"
    }
   },
   "outputs": [],
   "source": [
    "doubScores <- addDoubletScores(\n",
    "    input = ArrowFiles,\n",
    "    k = 10, #Refers to how many cells near a \"pseudo-doublet\" to count.\n",
    "    knnMethod = \"UMAP\", #Refers to the embedding to use for nearest neighbor search with doublet projection.\n",
    "    LSIMethod = 1\n",
    ")"
   ]
  },
  {
   "cell_type": "code",
   "execution_count": 17,
   "metadata": {
    "vscode": {
     "languageId": "r"
    }
   },
   "outputs": [
    {
     "name": "stderr",
     "output_type": "stream",
     "text": [
      "Using GeneAnnotation set by addArchRGenome(Hg19)!\n",
      "\n",
      "Using GeneAnnotation set by addArchRGenome(Hg19)!\n",
      "\n",
      "Validating Arrows...\n",
      "\n",
      "Getting SampleNames...\n",
      "\n",
      "\n",
      "\n",
      "Copying ArrowFiles to Ouptut Directory! If you want to save disk space set copyArrows = FALSE\n",
      "\n",
      "1 \n",
      "2 \n",
      "3 \n",
      "\n",
      "\n",
      "Getting Cell Metadata...\n",
      "\n",
      "\n",
      "\n",
      "Merging Cell Metadata...\n",
      "\n",
      "Initializing ArchRProject...\n",
      "\n",
      "\n",
      "                                                   / |\n",
      "                                                 /    \\\n",
      "            .                                  /      |.\n",
      "            \\\\\\                              /        |.\n",
      "              \\\\\\                          /           `|.\n",
      "                \\\\\\                      /              |.\n",
      "                  \\                    /                |\\\n",
      "                  \\\\#####\\           /                  ||\n",
      "                ==###########>      /                   ||\n",
      "                 \\\\##==......\\    /                     ||\n",
      "            ______ =       =|__ /__                     ||      \\\\\\\n",
      "        ,--' ,----`-,__ ___/'  --,-`-===================##========>\n",
      "       \\               '        ##_______ _____ ,--,__,=##,__   ///\n",
      "        ,    __==    ___,-,__,--'#'  ==='      `-'    | ##,-/\n",
      "        -,____,---'       \\\\####\\\\________________,--\\\\_##,/\n",
      "           ___      .______        ______  __    __  .______      \n",
      "          /   \\     |   _  \\      /      ||  |  |  | |   _  \\     \n",
      "         /  ^  \\    |  |_)  |    |  ,----'|  |__|  | |  |_)  |    \n",
      "        /  /_\\  \\   |      /     |  |     |   __   | |      /     \n",
      "       /  _____  \\  |  |\\  \\\\___ |  `----.|  |  |  | |  |\\  \\\\___.\n",
      "      /__/     \\__\\ | _| `._____| \\______||__|  |__| | _| `._____|\n",
      "    \n",
      "\n"
     ]
    }
   ],
   "source": [
    "projHeme1 <- ArchRProject(\n",
    "  ArrowFiles = ArrowFiles, \n",
    "  outputDirectory = \"HemeTutorial\",\n",
    "  copyArrows = TRUE #This is recommened so that if you modify the Arrow files you have an original copy for later usage.\n",
    ")"
   ]
  },
  {
   "cell_type": "code",
   "execution_count": 29,
   "metadata": {
    "vscode": {
     "languageId": "r"
    }
   },
   "outputs": [
    {
     "name": "stderr",
     "output_type": "stream",
     "text": [
      "ArchR logging to : ArchRLogs/ArchR-plotTSSEnrichment-10543656023e-Date-2024-08-29_Time-17-42-36.089566.log\n",
      "If there is an issue, please report to github with logFile!\n",
      "\n",
      "ArchR logging successful to : ArchRLogs/ArchR-plotTSSEnrichment-10543656023e-Date-2024-08-29_Time-17-42-36.089566.log\n",
      "\n"
     ]
    },
    {
     "data": {
      "image/png": "[encoded data removed]",
      "text/plain": [
       "plot without title"
      ]
     },
     "metadata": {
      "image/png": {
       "height": 420,
       "width": 420
      }
     },
     "output_type": "display_data"
    }
   ],
   "source": [
    "plotTSSEnrichment(ArchRProj = projHeme1)"
   ]
  },
  {
   "cell_type": "code",
   "execution_count": 32,
   "metadata": {
    "vscode": {
     "languageId": "r"
    }
   },
   "outputs": [],
   "source": [
    "bioNames <- gsub(\"_R2|_R1|scATAC_\",\"\", projHeme1$Sample)"
   ]
  },
  {
   "cell_type": "code",
   "execution_count": 30,
   "metadata": {
    "vscode": {
     "languageId": "r"
    }
   },
   "outputs": [
    {
     "name": "stderr",
     "output_type": "stream",
     "text": [
      "Copying ArchRProject to new outputDirectory : /home/qp2134/decipher/Save-ProjHeme1\n",
      "\n",
      "Copying Arrow Files...\n",
      "\n",
      "Copying Arrow Files (1 of 3)\n",
      "\n",
      "Copying Arrow Files (2 of 3)\n",
      "\n",
      "Copying Arrow Files (3 of 3)\n",
      "\n",
      "Getting ImputeWeights\n",
      "\n",
      "No imputeWeights found, returning NULL\n",
      "\n",
      "Copying Other Files...\n",
      "\n",
      "Saving ArchRProject...\n",
      "\n"
     ]
    }
   ],
   "source": [
    "saveArchRProject(ArchRProj = projHeme1, outputDirectory = \"Save-ProjHeme1\", load = FALSE)"
   ]
  },
  {
   "cell_type": "code",
   "execution_count": 25,
   "metadata": {
    "vscode": {
     "languageId": "r"
    }
   },
   "outputs": [
    {
     "name": "stdout",
     "output_type": "stream",
     "text": [
      "[1] \"scATAC_BMMC_R1\" \"scATAC_BMMC_R1\" \"scATAC_BMMC_R1\" \"scATAC_BMMC_R1\"\n",
      "[5] \"scATAC_BMMC_R1\" \"scATAC_BMMC_R1\"\n"
     ]
    }
   ],
   "source": [
    "print(head(projHeme1$Sample))"
   ]
  },
  {
   "cell_type": "code",
   "execution_count": 27,
   "metadata": {
    "vscode": {
     "languageId": "r"
    }
   },
   "outputs": [
    {
     "name": "stdout",
     "output_type": "stream",
     "text": [
      "      0%      25%      50%      75%     100% \n",
      " 4.10900 13.92550 16.81500 19.93025 41.98000 \n"
     ]
    }
   ],
   "source": [
    "print(quantile(projHeme1$TSSEnrichment))"
   ]
  },
  {
   "cell_type": "code",
   "execution_count": 33,
   "metadata": {
    "vscode": {
     "languageId": "r"
    }
   },
   "outputs": [
    {
     "ename": "ERROR",
     "evalue": "Error in value[[3L]](cond): select Not Found in Colnames of cellColData:\n\u001b[1m\u001b[33mError\u001b[39m in `dplyr::mutate()`:\u001b[22m\n\u001b[1m\u001b[22m\u001b[36mℹ\u001b[39m In argument: `tmpNewCol123 = eval(parse(text = select[x]))`.\n\u001b[1mCaused by error:\u001b[22m\n\u001b[33m!\u001b[39m object 'DoubletEnrichment' not found\n\n",
     "output_type": "error",
     "traceback": [
      "Error in value[[3L]](cond): select Not Found in Colnames of cellColData:\n\u001b[1m\u001b[33mError\u001b[39m in `dplyr::mutate()`:\u001b[22m\n\u001b[1m\u001b[22m\u001b[36mℹ\u001b[39m In argument: `tmpNewCol123 = eval(parse(text = select[x]))`.\n\u001b[1mCaused by error:\u001b[22m\n\u001b[33m!\u001b[39m object 'DoubletEnrichment' not found\n\nTraceback:\n",
      "1. filterDoublets(projHeme1)",
      "2. getCellColData(ArchRProj, c(\"Sample\", \"DoubletEnrichment\", \"DoubletScore\"))",
      "3. lapply(seq_along(select), function(x) {\n .     tryCatch({\n .         data.frame(dplyr::mutate(ccd, tmpNewCol123 = eval(parse(text = select[x])))[, \n .             \"tmpNewCol123\"], stringsAsFactors = FALSE)\n .     }, error = function(x) {\n .         stop(\"select Not Found in Colnames of cellColData:\\n\", \n .             x)\n .     })\n . }) %>% Reduce(\"cbind\", .) %>% {\n .     data.frame(., stringsAsFactors = FALSE)\n . }",
      "4. Reduce(\"cbind\", .)",
      "5. lapply(seq_along(select), function(x) {\n .     tryCatch({\n .         data.frame(dplyr::mutate(ccd, tmpNewCol123 = eval(parse(text = select[x])))[, \n .             \"tmpNewCol123\"], stringsAsFactors = FALSE)\n .     }, error = function(x) {\n .         stop(\"select Not Found in Colnames of cellColData:\\n\", \n .             x)\n .     })\n . })",
      "6. FUN(X[[i]], ...)",
      "7. tryCatch({\n .     data.frame(dplyr::mutate(ccd, tmpNewCol123 = eval(parse(text = select[x])))[, \n .         \"tmpNewCol123\"], stringsAsFactors = FALSE)\n . }, error = function(x) {\n .     stop(\"select Not Found in Colnames of cellColData:\\n\", x)\n . })",
      "8. tryCatchList(expr, classes, parentenv, handlers)",
      "9. tryCatchOne(expr, names, parentenv, handlers[[1L]])",
      "10. value[[3L]](cond)",
      "11. stop(\"select Not Found in Colnames of cellColData:\\n\", x)"
     ]
    }
   ],
   "source": [
    "projHeme2 <- filterDoublets(projHeme1)"
   ]
  },
  {
   "cell_type": "code",
   "execution_count": 16,
   "metadata": {
    "vscode": {
     "languageId": "r"
    }
   },
   "outputs": [
    {
     "ename": "ERROR",
     "evalue": "Error in eval(expr, envir, enclos): object 'projHeme2' not found\n",
     "output_type": "error",
     "traceback": [
      "Error in eval(expr, envir, enclos): object 'projHeme2' not found\nTraceback:\n",
      "1. getMarkerFeatures(ArchRProj = projHeme2, useMatrix = \"GeneScoreMatrix\", \n .     groupBy = \"Clusters\", bias = c(\"TSSEnrichment\", \"log10(nFrags)\"), \n .     testMethod = \"wilcoxon\")",
      "2. .validInput(input = ArchRProj, name = \"ArchRProj\", valid = c(\"ArchRProj\"))",
      "3. is(input, \"ArchRProject\")"
     ]
    }
   ],
   "source": [
    "markersGS <- getMarkerFeatures(\n",
    "    ArchRProj = projHeme2, \n",
    "    useMatrix = \"GeneScoreMatrix\", \n",
    "    groupBy = \"Clusters\",\n",
    "    bias = c(\"TSSEnrichment\", \"log10(nFrags)\"),\n",
    "    testMethod = \"wilcoxon\"\n",
    ")"
   ]
  }
 ],
 "metadata": {
  "kernelspec": {
   "display_name": "R",
   "language": "R",
   "name": "ir"
  },
  "language_info": {
   "codemirror_mode": "r",
   "file_extension": ".r",
   "mimetype": "text/x-r-source",
   "name": "R",
   "pygments_lexer": "r",
   "version": "4.4.1"
  }
 },
 "nbformat": 4,
 "nbformat_minor": 2
}
